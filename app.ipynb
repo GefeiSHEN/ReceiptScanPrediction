{
 "cells": [
  {
   "cell_type": "code",
   "execution_count": 16,
   "id": "b88d4902-868c-491e-a525-0f7c035d91c4",
   "metadata": {},
   "outputs": [],
   "source": [
    "import gradio as gr\n",
    "import csv\n",
    "import json\n",
    "import pandas as pd"
   ]
  },
  {
   "cell_type": "code",
   "execution_count": 21,
   "id": "22fece03-5fa8-4832-a404-03670efdc1c9",
   "metadata": {},
   "outputs": [],
   "source": [
    "# Load weights from CSV file\n",
    "def load_weights(filename):\n",
    "    with open(filename, 'r') as f:\n",
    "        weights = json.load(f)\n",
    "    return float(weights['m']), float(weights['b']),float(weights['mean_date']),float(weights['std_date'])\n",
    "\n",
    "# Load model weights\n",
    "m, b, mean_date, std_date = load_weights('receipt_pred.json')"
   ]
  },
  {
   "cell_type": "code",
   "execution_count": 25,
   "id": "9150fad9-1b89-4059-835c-73882370167d",
   "metadata": {},
   "outputs": [],
   "source": [
    "# Prediction function\n",
    "def predict(date_text):\n",
    "    date_ordinal = pd.to_datetime(date_text).toordinal()\n",
    "    date_normalized = (date_ordinal - mean_date) / std_date\n",
    "    y_pred = m * date_normalized + b\n",
    "    return f'Predicted value: {y_pred}'"
   ]
  },
  {
   "cell_type": "code",
   "execution_count": 26,
   "id": "75dc7611-0bec-4d55-bc9e-317dfd8f67ba",
   "metadata": {},
   "outputs": [
    {
     "name": "stdout",
     "output_type": "stream",
     "text": [
      "Running on local URL:  http://127.0.0.1:7869\n",
      "\n",
      "To create a public link, set `share=True` in `launch()`.\n"
     ]
    },
    {
     "data": {
      "text/html": [
       "<div><iframe src=\"http://127.0.0.1:7869/\" width=\"100%\" height=\"500\" allow=\"autoplay; camera; microphone; clipboard-read; clipboard-write;\" frameborder=\"0\" allowfullscreen></iframe></div>"
      ],
      "text/plain": [
       "<IPython.core.display.HTML object>"
      ]
     },
     "metadata": {},
     "output_type": "display_data"
    }
   ],
   "source": [
    "# Create Gradio interface\n",
    "iface = gr.Interface(\n",
    "    fn=predict,\n",
    "    inputs=\"text\",\n",
    "    outputs=\"text\"\n",
    ")\n",
    "\n",
    "if __name__ == \"__main__\":\n",
    "    iface.launch()"
   ]
  },
  {
   "cell_type": "code",
   "execution_count": null,
   "id": "8ec1b65f-96f4-43fc-8233-61a52dff4467",
   "metadata": {},
   "outputs": [],
   "source": []
  }
 ],
 "metadata": {
  "kernelspec": {
   "display_name": "Python 3 (ipykernel)",
   "language": "python",
   "name": "python3"
  },
  "language_info": {
   "codemirror_mode": {
    "name": "ipython",
    "version": 3
   },
   "file_extension": ".py",
   "mimetype": "text/x-python",
   "name": "python",
   "nbconvert_exporter": "python",
   "pygments_lexer": "ipython3",
   "version": "3.10.11"
  }
 },
 "nbformat": 4,
 "nbformat_minor": 5
}
