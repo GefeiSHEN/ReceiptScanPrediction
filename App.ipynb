{
 "cells": [
  {
   "cell_type": "code",
   "execution_count": 2,
   "id": "b88d4902-868c-491e-a525-0f7c035d91c4",
   "metadata": {},
   "outputs": [],
   "source": [
    "import gradio as gr\n",
    "import json\n",
    "import pandas as pd\n",
    "import altair as alt"
   ]
  },
  {
   "cell_type": "code",
   "execution_count": 3,
   "id": "22fece03-5fa8-4832-a404-03670efdc1c9",
   "metadata": {},
   "outputs": [],
   "source": [
    "# Load Weight\n",
    "def load_weights(filename):\n",
    "    with open(filename, 'r') as f:\n",
    "        weights = json.load(f)\n",
    "    return float(weights['m']), float(weights['b']),float(weights['mean_date']),float(weights['std_date'])\n",
    "\n",
    "m, b, mean_date, std_date = load_weights('receipt_pred.json')"
   ]
  },
  {
   "cell_type": "code",
   "execution_count": 4,
   "id": "117f1277-bfcc-4604-92d5-f1cf6ee56ecc",
   "metadata": {},
   "outputs": [],
   "source": [
    "# Prediction\n",
    "def pred(date_normalized):\n",
    "    return m * date_normalized + b"
   ]
  },
  {
   "cell_type": "code",
   "execution_count": 5,
   "id": "fd06636c-1c07-4510-a026-bda7447d1801",
   "metadata": {},
   "outputs": [],
   "source": [
    "# Graphing\n",
    "def make_plot(historical_dates_relative, historical_values, y_pred, range_size):\n",
    "    source = pd.DataFrame({\n",
    "      'Date Range': historical_dates_relative,\n",
    "      'Estimated Receipt Count': historical_values\n",
    "    })\n",
    "\n",
    "    chart = alt.Chart(source).mark_line().encode(\n",
    "        x='Date Range',\n",
    "        y='Estimated Receipt Count'\n",
    "    )\n",
    "\n",
    "    pred_point = pd.DataFrame({\n",
    "        'Date Range': [0],\n",
    "        'Estimated Receipt Count': [y_pred]\n",
    "    })\n",
    "\n",
    "    point_chart = alt.Chart(pred_point).mark_point(color='red').encode(\n",
    "        x='Date Range',\n",
    "        y='Estimated Receipt Count'\n",
    "    )\n",
    "\n",
    "    return chart + point_chart"
   ]
  },
  {
   "cell_type": "code",
   "execution_count": 6,
   "id": "9150fad9-1b89-4059-835c-73882370167d",
   "metadata": {},
   "outputs": [],
   "source": [
    "# Process\n",
    "def process(date_text, range_size):\n",
    "    date_ordinal = pd.to_datetime(date_text).toordinal()\n",
    "    date_normalized = float((date_ordinal - mean_date) / std_date)\n",
    "    y_pred = pred(date_normalized)\n",
    "    \n",
    "    historical_dates = pd.Series(range(-range_size, range_size + 1)) / 10.0 + date_normalized\n",
    "    historical_dates_relative = pd.Series([float(i) for i in range(-range_size, range_size+1)])\n",
    "    historical_values = pred(historical_dates)\n",
    "    \n",
    "    plot = make_plot(historical_dates_relative, historical_values, y_pred, range_size)\n",
    "    return y_pred, plot"
   ]
  },
  {
   "cell_type": "code",
   "execution_count": 10,
   "id": "75dc7611-0bec-4d55-bc9e-317dfd8f67ba",
   "metadata": {
    "scrolled": true
   },
   "outputs": [
    {
     "name": "stdout",
     "output_type": "stream",
     "text": [
      "Running on local URL:  http://127.0.0.1:7822\n",
      "\n",
      "To create a public link, set `share=True` in `launch()`.\n"
     ]
    },
    {
     "data": {
      "text/html": [
       "<div><iframe src=\"http://127.0.0.1:7822/\" width=\"100%\" height=\"500\" allow=\"autoplay; camera; microphone; clipboard-read; clipboard-write;\" frameborder=\"0\" allowfullscreen></iframe></div>"
      ],
      "text/plain": [
       "<IPython.core.display.HTML object>"
      ]
     },
     "metadata": {},
     "output_type": "display_data"
    }
   ],
   "source": [
    "# Gradio UI\n",
    "app = gr.Interface(\n",
    "    fn=process,\n",
    "    inputs=[gr.Textbox(label=\"Date (MM/DD/YYYY)\"),\n",
    "            gr.Slider(minimum=10, maximum=100, step=1, label=\"Range (± n Days)\")],\n",
    "    outputs=[gr.Textbox(label=\"Estimated Receipt Count\"),\n",
    "             gr.Plot(label=\"Trend Plot\")],\n",
    "    title=\"Receipt Scanned Estimation\"\n",
    ")\n",
    "\n",
    "if __name__ == \"__main__\":\n",
    "    app.launch(server_port=7822)"
   ]
  },
  {
   "cell_type": "code",
   "execution_count": null,
   "id": "8ec1b65f-96f4-43fc-8233-61a52dff4467",
   "metadata": {},
   "outputs": [],
   "source": []
  }
 ],
 "metadata": {
  "kernelspec": {
   "display_name": "Python 3 (ipykernel)",
   "language": "python",
   "name": "python3"
  },
  "language_info": {
   "codemirror_mode": {
    "name": "ipython",
    "version": 3
   },
   "file_extension": ".py",
   "mimetype": "text/x-python",
   "name": "python",
   "nbconvert_exporter": "python",
   "pygments_lexer": "ipython3",
   "version": "3.10.11"
  }
 },
 "nbformat": 4,
 "nbformat_minor": 5
}
